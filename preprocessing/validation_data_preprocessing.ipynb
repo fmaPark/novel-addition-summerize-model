{
 "cells": [
  {
   "cell_type": "code",
   "execution_count": 2,
   "id": "9ef64703-398f-49d2-b494-d105e11f056b",
   "metadata": {},
   "outputs": [],
   "source": [
    "import os\n",
    "import json\n",
    "import pandas as pd"
   ]
  },
  {
   "cell_type": "markdown",
   "id": "5d597e46-258b-43ca-8bce-5b6d1e4ded19",
   "metadata": {},
   "source": [
    "## old new text 분할"
   ]
  },
  {
   "cell_type": "code",
   "execution_count": 3,
   "id": "790fa6f2-82c6-4231-8cec-5f228a431ef7",
   "metadata": {},
   "outputs": [
    {
     "data": {
      "text/plain": [
       "{'status': 'success',\n",
       " 'file_path': './data/validation/REPORT-literature-06972-06972.json',\n",
       " 'data': {'Meta(Acqusition)': {'doc_id': 'REPORT-literature-06972',\n",
       "   'doc_category': 'REPORT',\n",
       "   'doc_type': 'literature',\n",
       "   'doc_name': '이리',\n",
       "   'author': '김남천',\n",
       "   'publisher': None,\n",
       "   'publisher_year': None,\n",
       "   'doc_origin': '저작권위원회'},\n",
       "  'Meta(Refine)': {'passage_id': 'REPORT-literature-06972-06972',\n",
       "   'passage': ' “그런 게 아니오. 지금 금방 내가 기사를 써놓고 나왔으니 내일 조간에 나겠지만 신문 기사는 결국 한 편의 사실밖엔 아무 것도 아니 되지만, 그렇 게 집어치우기는 아까운 대목이 하나 있으니 그걸 내 지금 김형에게 들려줄 테란 말이오.” 내가 정색하는 것을 기다려 박군은 다시 술 한 잔을 따라 맛있게 들이마시 고, 나의 얼굴을 쳐다보았다. “서울의 카즈바 ⎯.” 이렇게 박군의 이야기는 시작되었다. 별이야 있든 없든 달 없는 밤에 전찻길 위에 서서 그곳을 쳐다보면 꼭 마 천루를 바라보는 것 같으다. 무학재를 마주 서서 왼편은, 금화산(金華山) 밑으로 어둑시근한 감옥이 아파트처럼 엿보이는데 높은 담장의 화살 같은 일직선의 등허리를 태양처럼 눈이 부신 전등이 군데군데 날카로운 불광을 퍼붓고 있다. 이 불광이 희미하게 사라지는 곳에 밀매음의 소굴로서 이름이 떼어 관동(館洞)이 있었고 그 중턱엔 이 또한 이름이 높은 도수장이 끼어 있었다 한편 무학제 좁디좁은 . 골짜구니로부터 유난히 까끕 서서 올라 뻗은 산봉우리는 북악(北嶽)이 되기 전에 우선 인왕산이 되어버렸는데 우중충한 산그림자에 에워 앉아서 그 밑에 별똥 같은 수많은 불광이 마치 높직하고도 무게 있는 마천루의 건축같이 보이는 것이다. 밑으로부터 올려 세면 몇 층 이나 되려는가. 질서 없는 전등이 가이 없이 첩첩히 뒤덥여서 그대로 산허 리를 넘었고 그것은 뻗어서 독립문을 굽어보는 곳까지 이르러 있는 것 같 다. 산허리를 덮어버린 현저동 향촌동의 슬럼 지대, 이곳은 대 경성의 특수 구역이 아닐 수 없다.\\n',\n",
       "   'passage_Cnt': 766},\n",
       "  'Annotation': {'summary1': '박군은 나에게 본인이 쓴 기사를 들려주려 한다.',\n",
       "   'summary2': None,\n",
       "   'summary3': '“그런 게 아니오. 지금 금방 내가 기사를 써놓고 나왔으니 내일 조간에 나겠지만 신문 기사는 결국 한 편의 사실밖엔 아무 것도 아니 되지만, 그렇 게 집어치우기는 아까운 대목이 하나 있으니 그걸 내 지금 김형에게 들려줄 테란 말이오.” 내가 정색하는 것을 기다려 박군은 다시 술 한 잔을 따라 맛있게 들이마시 고, 나의 얼굴을 쳐다보았다.',\n",
       "   'summary_3_cnt': 189}}}"
      ]
     },
     "execution_count": 3,
     "metadata": {},
     "output_type": "execute_result"
    }
   ],
   "source": [
    "# List all files in the './data/validation' directory\n",
    "files = os.listdir('./data/validation')\n",
    "\n",
    "# Filter for JSON files\n",
    "json_files = [file for file in files if file.endswith('.json')]\n",
    "\n",
    "# Read the first JSON file\n",
    "if json_files:\n",
    "    first_json_file_path = os.path.join('./data/validation', json_files[0])\n",
    "    with open(first_json_file_path, 'r', encoding='utf-8') as file:\n",
    "        data = json.load(file)\n",
    "    result = {\"status\": \"success\", \"file_path\": first_json_file_path, \"data\": data}\n",
    "else:\n",
    "    result = {\"status\": \"error\", \"message\": \"No JSON files found in the directory.\"}\n",
    "\n",
    "result"
   ]
  },
  {
   "cell_type": "code",
   "execution_count": 4,
   "id": "0fa25066-94f6-46f6-b74c-26c85f2d8a9a",
   "metadata": {},
   "outputs": [
    {
     "name": "stdout",
     "output_type": "stream",
     "text": [
      "1200\n"
     ]
    }
   ],
   "source": [
    "json_data = []\n",
    "\n",
    "for file in json_files :\n",
    "    json_file_path = os.path.join('./data/validation', file)\n",
    "    with open(json_file_path, 'r', encoding='utf-8') as file:\n",
    "        data = json.load(file)\n",
    "    result = {\"status\": \"success\", \"file_path\": json_file_path, \"data\": data}\n",
    "    json_data.append(result)\n",
    "\n",
    "print(len(json_data))"
   ]
  },
  {
   "cell_type": "code",
   "execution_count": 5,
   "id": "4b8d8c81-43a1-46c4-ba47-a632a488ab8b",
   "metadata": {},
   "outputs": [
    {
     "data": {
      "text/html": [
       "<div>\n",
       "<style scoped>\n",
       "    .dataframe tbody tr th:only-of-type {\n",
       "        vertical-align: middle;\n",
       "    }\n",
       "\n",
       "    .dataframe tbody tr th {\n",
       "        vertical-align: top;\n",
       "    }\n",
       "\n",
       "    .dataframe thead th {\n",
       "        text-align: right;\n",
       "    }\n",
       "</style>\n",
       "<table border=\"1\" class=\"dataframe\">\n",
       "  <thead>\n",
       "    <tr style=\"text-align: right;\">\n",
       "      <th></th>\n",
       "      <th>file_path</th>\n",
       "      <th>passage</th>\n",
       "    </tr>\n",
       "  </thead>\n",
       "  <tbody>\n",
       "    <tr>\n",
       "      <th>0</th>\n",
       "      <td>./data/validation/REPORT-literature-06972-0697...</td>\n",
       "      <td>“그런 게 아니오. 지금 금방 내가 기사를 써놓고 나왔으니 내일 조간에 나겠지만 ...</td>\n",
       "    </tr>\n",
       "    <tr>\n",
       "      <th>1</th>\n",
       "      <td>./data/validation/REPORT-literature-00967-0096...</td>\n",
       "      <td>그러다가 백작가 중병에 걸려서 신음하게 되자 백작을 위로해 드리고자 하 여 피아노...</td>\n",
       "    </tr>\n",
       "    <tr>\n",
       "      <th>2</th>\n",
       "      <td>./data/validation/REPORT-literature-07073-0707...</td>\n",
       "      <td>그는 남편의 좋지 못한 기색을 보고는 그만 아무 말 없이 돌아앉아서 양말 을 신었...</td>\n",
       "    </tr>\n",
       "    <tr>\n",
       "      <th>3</th>\n",
       "      <td>./data/validation/REPORT-literature-01066-0106...</td>\n",
       "      <td>청이라는 것은 재봉틀 한 대를 월부로 돌여놓을 밑천이다. 어떻게 생각하면 들어주지...</td>\n",
       "    </tr>\n",
       "    <tr>\n",
       "      <th>4</th>\n",
       "      <td>./data/validation/REPORT-literature-00785-0078...</td>\n",
       "      <td>그러나 대엿새 하는 동안에 그는 이상한 현상을 하나 발견하였다. 그것은 다른 것이 ...</td>\n",
       "    </tr>\n",
       "  </tbody>\n",
       "</table>\n",
       "</div>"
      ],
      "text/plain": [
       "                                           file_path  \\\n",
       "0  ./data/validation/REPORT-literature-06972-0697...   \n",
       "1  ./data/validation/REPORT-literature-00967-0096...   \n",
       "2  ./data/validation/REPORT-literature-07073-0707...   \n",
       "3  ./data/validation/REPORT-literature-01066-0106...   \n",
       "4  ./data/validation/REPORT-literature-00785-0078...   \n",
       "\n",
       "                                             passage  \n",
       "0   “그런 게 아니오. 지금 금방 내가 기사를 써놓고 나왔으니 내일 조간에 나겠지만 ...  \n",
       "1   그러다가 백작가 중병에 걸려서 신음하게 되자 백작을 위로해 드리고자 하 여 피아노...  \n",
       "2   그는 남편의 좋지 못한 기색을 보고는 그만 아무 말 없이 돌아앉아서 양말 을 신었...  \n",
       "3   청이라는 것은 재봉틀 한 대를 월부로 돌여놓을 밑천이다. 어떻게 생각하면 들어주지...  \n",
       "4  그러나 대엿새 하는 동안에 그는 이상한 현상을 하나 발견하였다. 그것은 다른 것이 ...  "
      ]
     },
     "execution_count": 5,
     "metadata": {},
     "output_type": "execute_result"
    }
   ],
   "source": [
    "# Creating a DataFrame from the passage parts\n",
    "df_passages = pd.DataFrame({\n",
    "    'file_path': [json_file['file_path'] for json_file in json_data],\n",
    "    'passage': [json_file['data']['Meta(Refine)']['passage'] for json_file in json_data]\n",
    "})\n",
    "\n",
    "df_passages.head()"
   ]
  },
  {
   "cell_type": "code",
   "execution_count": 6,
   "id": "41037e50-b3a8-4c17-9c87-3df9ac471f50",
   "metadata": {},
   "outputs": [
    {
     "data": {
      "text/plain": [
       "(1200, 2)"
      ]
     },
     "execution_count": 6,
     "metadata": {},
     "output_type": "execute_result"
    }
   ],
   "source": [
    "df_passages.shape"
   ]
  },
  {
   "cell_type": "code",
   "execution_count": 7,
   "id": "1abcaec5-9a55-4824-aa97-0c02a1162c37",
   "metadata": {},
   "outputs": [],
   "source": [
    "# '\\n'을 ' '로 변경\n",
    "df_passages['passage'] = df_passages['passage'].str.replace('\\n', ' ', regex=False)"
   ]
  },
  {
   "cell_type": "code",
   "execution_count": 8,
   "id": "92239de4-4b3f-4302-a0b5-acd81d62ed40",
   "metadata": {},
   "outputs": [
    {
     "data": {
      "text/html": [
       "<div>\n",
       "<style scoped>\n",
       "    .dataframe tbody tr th:only-of-type {\n",
       "        vertical-align: middle;\n",
       "    }\n",
       "\n",
       "    .dataframe tbody tr th {\n",
       "        vertical-align: top;\n",
       "    }\n",
       "\n",
       "    .dataframe thead th {\n",
       "        text-align: right;\n",
       "    }\n",
       "</style>\n",
       "<table border=\"1\" class=\"dataframe\">\n",
       "  <thead>\n",
       "    <tr style=\"text-align: right;\">\n",
       "      <th></th>\n",
       "      <th>file_path</th>\n",
       "      <th>new</th>\n",
       "    </tr>\n",
       "  </thead>\n",
       "  <tbody>\n",
       "    <tr>\n",
       "      <th>0</th>\n",
       "      <td>./data/validation/REPORT-literature-06972-0697...</td>\n",
       "      <td>“그런 게 아니오. 지금 금방 내가 기사를 써놓고 나왔으니 내일 조간에 나겠지만 ...</td>\n",
       "    </tr>\n",
       "    <tr>\n",
       "      <th>1</th>\n",
       "      <td>./data/validation/REPORT-literature-00967-0096...</td>\n",
       "      <td>그러다가 백작가 중병에 걸려서 신음하게 되자 백작을 위로해 드리고자 하 여 피아노...</td>\n",
       "    </tr>\n",
       "    <tr>\n",
       "      <th>2</th>\n",
       "      <td>./data/validation/REPORT-literature-07073-0707...</td>\n",
       "      <td>그는 남편의 좋지 못한 기색을 보고는 그만 아무 말 없이 돌아앉아서 양말 을 신었...</td>\n",
       "    </tr>\n",
       "    <tr>\n",
       "      <th>3</th>\n",
       "      <td>./data/validation/REPORT-literature-01066-0106...</td>\n",
       "      <td>청이라는 것은 재봉틀 한 대를 월부로 돌여놓을 밑천이다. 어떻게 생각하면 들어주지...</td>\n",
       "    </tr>\n",
       "    <tr>\n",
       "      <th>4</th>\n",
       "      <td>./data/validation/REPORT-literature-00785-0078...</td>\n",
       "      <td>그러나 대엿새 하는 동안에 그는 이상한 현상을 하나 발견하였다. 그것은 다른 것이 ...</td>\n",
       "    </tr>\n",
       "  </tbody>\n",
       "</table>\n",
       "</div>"
      ],
      "text/plain": [
       "                                           file_path  \\\n",
       "0  ./data/validation/REPORT-literature-06972-0697...   \n",
       "1  ./data/validation/REPORT-literature-00967-0096...   \n",
       "2  ./data/validation/REPORT-literature-07073-0707...   \n",
       "3  ./data/validation/REPORT-literature-01066-0106...   \n",
       "4  ./data/validation/REPORT-literature-00785-0078...   \n",
       "\n",
       "                                                 new  \n",
       "0   “그런 게 아니오. 지금 금방 내가 기사를 써놓고 나왔으니 내일 조간에 나겠지만 ...  \n",
       "1   그러다가 백작가 중병에 걸려서 신음하게 되자 백작을 위로해 드리고자 하 여 피아노...  \n",
       "2   그는 남편의 좋지 못한 기색을 보고는 그만 아무 말 없이 돌아앉아서 양말 을 신었...  \n",
       "3   청이라는 것은 재봉틀 한 대를 월부로 돌여놓을 밑천이다. 어떻게 생각하면 들어주지...  \n",
       "4  그러나 대엿새 하는 동안에 그는 이상한 현상을 하나 발견하였다. 그것은 다른 것이 ...  "
      ]
     },
     "execution_count": 8,
     "metadata": {},
     "output_type": "execute_result"
    }
   ],
   "source": [
    "#passage 열이름을 new로 변경\n",
    "df_passages.rename(columns={'passage': 'new'}, inplace=True)\n",
    "\n",
    "df_passages.head()"
   ]
  },
  {
   "cell_type": "code",
   "execution_count": 9,
   "id": "b95e4166-6144-472a-af26-3e319d5c43db",
   "metadata": {},
   "outputs": [
    {
     "data": {
      "text/html": [
       "<div>\n",
       "<style scoped>\n",
       "    .dataframe tbody tr th:only-of-type {\n",
       "        vertical-align: middle;\n",
       "    }\n",
       "\n",
       "    .dataframe tbody tr th {\n",
       "        vertical-align: top;\n",
       "    }\n",
       "\n",
       "    .dataframe thead th {\n",
       "        text-align: right;\n",
       "    }\n",
       "</style>\n",
       "<table border=\"1\" class=\"dataframe\">\n",
       "  <thead>\n",
       "    <tr style=\"text-align: right;\">\n",
       "      <th></th>\n",
       "      <th>file_path</th>\n",
       "      <th>new</th>\n",
       "      <th>old</th>\n",
       "    </tr>\n",
       "  </thead>\n",
       "  <tbody>\n",
       "    <tr>\n",
       "      <th>0</th>\n",
       "      <td>./data/validation/REPORT-literature-06972-0697...</td>\n",
       "      <td>“그런 게 아니오. 지금 금방 내가 기사를 써놓고 나왔으니 내일 조간에 나겠지만 ...</td>\n",
       "      <td>“그런 게 아니오. 지금 금방 내가 기사를 써놓고 나왔으니 내일 조간에 나겠지만 ...</td>\n",
       "    </tr>\n",
       "    <tr>\n",
       "      <th>1</th>\n",
       "      <td>./data/validation/REPORT-literature-00967-0096...</td>\n",
       "      <td>그러다가 백작가 중병에 걸려서 신음하게 되자 백작을 위로해 드리고자 하 여 피아노...</td>\n",
       "      <td>그러다가 백작가 중병에 걸려서 신음하게 되자 백작을 위로해 드리고자 하 여 피아노...</td>\n",
       "    </tr>\n",
       "    <tr>\n",
       "      <th>2</th>\n",
       "      <td>./data/validation/REPORT-literature-07073-0707...</td>\n",
       "      <td>그는 남편의 좋지 못한 기색을 보고는 그만 아무 말 없이 돌아앉아서 양말 을 신었...</td>\n",
       "      <td>그는 남편의 좋지 못한 기색을 보고는 그만 아무 말 없이 돌아앉아서 양말 을 신었...</td>\n",
       "    </tr>\n",
       "    <tr>\n",
       "      <th>3</th>\n",
       "      <td>./data/validation/REPORT-literature-01066-0106...</td>\n",
       "      <td>청이라는 것은 재봉틀 한 대를 월부로 돌여놓을 밑천이다. 어떻게 생각하면 들어주지...</td>\n",
       "      <td>청이라는 것은 재봉틀 한 대를 월부로 돌여놓을 밑천이다. 어떻게 생각하면 들어주지...</td>\n",
       "    </tr>\n",
       "    <tr>\n",
       "      <th>4</th>\n",
       "      <td>./data/validation/REPORT-literature-00785-0078...</td>\n",
       "      <td>그러나 대엿새 하는 동안에 그는 이상한 현상을 하나 발견하였다. 그것은 다른 것이 ...</td>\n",
       "      <td>그러나 대엿새 하는 동안에 그는 이상한 현상을 하나 발견하였다. 그것은 다른 것이 ...</td>\n",
       "    </tr>\n",
       "    <tr>\n",
       "      <th>...</th>\n",
       "      <td>...</td>\n",
       "      <td>...</td>\n",
       "      <td>...</td>\n",
       "    </tr>\n",
       "    <tr>\n",
       "      <th>1195</th>\n",
       "      <td>./data/validation/REPORT-literature-07064-0706...</td>\n",
       "      <td>상급학교 입학 준비. 그런 것은 최근의 그에게 있어서는 그다지 문제가 되는 것이 ...</td>\n",
       "      <td>상급학교 입학 준비. 그런 것은 최근의 그에게 있어서는 그다지 문제가 되는 것이 ...</td>\n",
       "    </tr>\n",
       "    <tr>\n",
       "      <th>1196</th>\n",
       "      <td>./data/validation/REPORT-literature-01071-0107...</td>\n",
       "      <td>그런데 이번 일 ― 오빠의 외박(外泊)한 날짜와 채옥이의 외박한 날짜가 일치되는 ...</td>\n",
       "      <td>그런데 이번 일 ― 오빠의 외박(外泊)한 날짜와 채옥이의 외박한 날짜가 일치되는 ...</td>\n",
       "    </tr>\n",
       "    <tr>\n",
       "      <th>1197</th>\n",
       "      <td>./data/validation/REPORT-literature-01048-0104...</td>\n",
       "      <td>“아 참, 그러니 말이지 참 더워 죽겠수. 발개벗구 다니랬으면 좋겠어! 하하하하....</td>\n",
       "      <td>“아 참, 그러니 말이지 참 더워 죽겠수. 발개벗구 다니랬으면 좋겠어! 하하하하.”</td>\n",
       "    </tr>\n",
       "    <tr>\n",
       "      <th>1198</th>\n",
       "      <td>./data/validation/REPORT-literature-06965-0696...</td>\n",
       "      <td>팔월도 그믐이 가까워 가을 바람이 불기 시작할 때라 저녁 때면 의례히 말 달리는 놀...</td>\n",
       "      <td>팔월도 그믐이 가까워 가을 바람이 불기 시작할 때라 저녁 때면 의례히 말 달리는 놀...</td>\n",
       "    </tr>\n",
       "    <tr>\n",
       "      <th>1199</th>\n",
       "      <td>./data/validation/REPORT-literature-00970-0097...</td>\n",
       "      <td>나는 배가 너무 고펐기에 먼저 군떡을 몇개 집어먹고는 마음놓 고 그년 석과 술을 ...</td>\n",
       "      <td>나는 배가 너무 고펐기에 먼저 군떡을 몇개 집어먹고는 마음놓 고 그년 석과 술을 ...</td>\n",
       "    </tr>\n",
       "  </tbody>\n",
       "</table>\n",
       "<p>1200 rows × 3 columns</p>\n",
       "</div>"
      ],
      "text/plain": [
       "                                              file_path  \\\n",
       "0     ./data/validation/REPORT-literature-06972-0697...   \n",
       "1     ./data/validation/REPORT-literature-00967-0096...   \n",
       "2     ./data/validation/REPORT-literature-07073-0707...   \n",
       "3     ./data/validation/REPORT-literature-01066-0106...   \n",
       "4     ./data/validation/REPORT-literature-00785-0078...   \n",
       "...                                                 ...   \n",
       "1195  ./data/validation/REPORT-literature-07064-0706...   \n",
       "1196  ./data/validation/REPORT-literature-01071-0107...   \n",
       "1197  ./data/validation/REPORT-literature-01048-0104...   \n",
       "1198  ./data/validation/REPORT-literature-06965-0696...   \n",
       "1199  ./data/validation/REPORT-literature-00970-0097...   \n",
       "\n",
       "                                                    new  \\\n",
       "0      “그런 게 아니오. 지금 금방 내가 기사를 써놓고 나왔으니 내일 조간에 나겠지만 ...   \n",
       "1      그러다가 백작가 중병에 걸려서 신음하게 되자 백작을 위로해 드리고자 하 여 피아노...   \n",
       "2      그는 남편의 좋지 못한 기색을 보고는 그만 아무 말 없이 돌아앉아서 양말 을 신었...   \n",
       "3      청이라는 것은 재봉틀 한 대를 월부로 돌여놓을 밑천이다. 어떻게 생각하면 들어주지...   \n",
       "4     그러나 대엿새 하는 동안에 그는 이상한 현상을 하나 발견하였다. 그것은 다른 것이 ...   \n",
       "...                                                 ...   \n",
       "1195   상급학교 입학 준비. 그런 것은 최근의 그에게 있어서는 그다지 문제가 되는 것이 ...   \n",
       "1196   그런데 이번 일 ― 오빠의 외박(外泊)한 날짜와 채옥이의 외박한 날짜가 일치되는 ...   \n",
       "1197   “아 참, 그러니 말이지 참 더워 죽겠수. 발개벗구 다니랬으면 좋겠어! 하하하하....   \n",
       "1198  팔월도 그믐이 가까워 가을 바람이 불기 시작할 때라 저녁 때면 의례히 말 달리는 놀...   \n",
       "1199   나는 배가 너무 고펐기에 먼저 군떡을 몇개 집어먹고는 마음놓 고 그년 석과 술을 ...   \n",
       "\n",
       "                                                    old  \n",
       "0      “그런 게 아니오. 지금 금방 내가 기사를 써놓고 나왔으니 내일 조간에 나겠지만 ...  \n",
       "1      그러다가 백작가 중병에 걸려서 신음하게 되자 백작을 위로해 드리고자 하 여 피아노...  \n",
       "2      그는 남편의 좋지 못한 기색을 보고는 그만 아무 말 없이 돌아앉아서 양말 을 신었...  \n",
       "3      청이라는 것은 재봉틀 한 대를 월부로 돌여놓을 밑천이다. 어떻게 생각하면 들어주지...  \n",
       "4     그러나 대엿새 하는 동안에 그는 이상한 현상을 하나 발견하였다. 그것은 다른 것이 ...  \n",
       "...                                                 ...  \n",
       "1195   상급학교 입학 준비. 그런 것은 최근의 그에게 있어서는 그다지 문제가 되는 것이 ...  \n",
       "1196   그런데 이번 일 ― 오빠의 외박(外泊)한 날짜와 채옥이의 외박한 날짜가 일치되는 ...  \n",
       "1197     “아 참, 그러니 말이지 참 더워 죽겠수. 발개벗구 다니랬으면 좋겠어! 하하하하.”  \n",
       "1198  팔월도 그믐이 가까워 가을 바람이 불기 시작할 때라 저녁 때면 의례히 말 달리는 놀...  \n",
       "1199   나는 배가 너무 고펐기에 먼저 군떡을 몇개 집어먹고는 마음놓 고 그년 석과 술을 ...  \n",
       "\n",
       "[1200 rows x 3 columns]"
      ]
     },
     "execution_count": 9,
     "metadata": {},
     "output_type": "execute_result"
    }
   ],
   "source": [
    "# old 열의 텍스트에서 두 번째 마침표나 물음표가 나오는 곳까지 자르기.\n",
    "# 이때 잘리는 부분이 따옴표 안에 있으면 따옴표 끝까지 포함해서 자르도록 구현\n",
    "def extract_until_second_punctuation_including_quotes(text):\n",
    "    punctuations = ['.', '?']\n",
    "    punctuation_count = 0\n",
    "    quote_open = False\n",
    "    last_punctuation_inside_quotes = False\n",
    "\n",
    "    for i, char in enumerate(text):\n",
    "        if char == '“':\n",
    "            quote_open = True\n",
    "        elif char == '”':\n",
    "            quote_open = False\n",
    "            if last_punctuation_inside_quotes:\n",
    "                return text[:i+1]\n",
    "        elif char in punctuations:\n",
    "            punctuation_count += 1\n",
    "            if punctuation_count == 2:\n",
    "                if not quote_open:\n",
    "                    return text[:i+1]\n",
    "                else:\n",
    "                    last_punctuation_inside_quotes = True\n",
    "    return text\n",
    "\n",
    "df_passages['old'] = df_passages['new'].apply(extract_until_second_punctuation_including_quotes)\n",
    "\n",
    "df_passages\n"
   ]
  },
  {
   "cell_type": "code",
   "execution_count": 10,
   "id": "dc169451-0e94-427e-91ae-0cc3e27652e1",
   "metadata": {},
   "outputs": [],
   "source": [
    "#csv파일로 저장\n",
    "csv_file_path = './Data/validation_old_new_data.csv'\n",
    "df_passages.to_csv(csv_file_path, index=False)"
   ]
  },
  {
   "cell_type": "markdown",
   "id": "8a3af3a6-aaf2-4029-a523-c4d28a8bf97a",
   "metadata": {},
   "source": [
    "## 추가된 길이 기준으로 100개 선정"
   ]
  },
  {
   "cell_type": "code",
   "execution_count": 11,
   "id": "518e1bf1-823b-4112-be02-10c2f2ae2809",
   "metadata": {},
   "outputs": [
    {
     "name": "stdout",
     "output_type": "stream",
     "text": [
      "                                              file_path  \\\n",
      "0     ./data/validation/REPORT-literature-06972-0697...   \n",
      "1     ./data/validation/REPORT-literature-00967-0096...   \n",
      "2     ./data/validation/REPORT-literature-07073-0707...   \n",
      "3     ./data/validation/REPORT-literature-01066-0106...   \n",
      "4     ./data/validation/REPORT-literature-00785-0078...   \n",
      "...                                                 ...   \n",
      "1195  ./data/validation/REPORT-literature-07064-0706...   \n",
      "1196  ./data/validation/REPORT-literature-01071-0107...   \n",
      "1197  ./data/validation/REPORT-literature-01048-0104...   \n",
      "1198  ./data/validation/REPORT-literature-06965-0696...   \n",
      "1199  ./data/validation/REPORT-literature-00970-0097...   \n",
      "\n",
      "                                                    new  \\\n",
      "0      “그런 게 아니오. 지금 금방 내가 기사를 써놓고 나왔으니 내일 조간에 나겠지만 ...   \n",
      "1      그러다가 백작가 중병에 걸려서 신음하게 되자 백작을 위로해 드리고자 하 여 피아노...   \n",
      "2      그는 남편의 좋지 못한 기색을 보고는 그만 아무 말 없이 돌아앉아서 양말 을 신었...   \n",
      "3      청이라는 것은 재봉틀 한 대를 월부로 돌여놓을 밑천이다. 어떻게 생각하면 들어주지...   \n",
      "4     그러나 대엿새 하는 동안에 그는 이상한 현상을 하나 발견하였다. 그것은 다른 것이 ...   \n",
      "...                                                 ...   \n",
      "1195   상급학교 입학 준비. 그런 것은 최근의 그에게 있어서는 그다지 문제가 되는 것이 ...   \n",
      "1196   그런데 이번 일 ― 오빠의 외박(外泊)한 날짜와 채옥이의 외박한 날짜가 일치되는 ...   \n",
      "1197   “아 참, 그러니 말이지 참 더워 죽겠수. 발개벗구 다니랬으면 좋겠어! 하하하하....   \n",
      "1198  팔월도 그믐이 가까워 가을 바람이 불기 시작할 때라 저녁 때면 의례히 말 달리는 놀...   \n",
      "1199   나는 배가 너무 고펐기에 먼저 군떡을 몇개 집어먹고는 마음놓 고 그년 석과 술을 ...   \n",
      "\n",
      "                                                    old  \n",
      "0      “그런 게 아니오. 지금 금방 내가 기사를 써놓고 나왔으니 내일 조간에 나겠지만 ...  \n",
      "1      그러다가 백작가 중병에 걸려서 신음하게 되자 백작을 위로해 드리고자 하 여 피아노...  \n",
      "2      그는 남편의 좋지 못한 기색을 보고는 그만 아무 말 없이 돌아앉아서 양말 을 신었...  \n",
      "3      청이라는 것은 재봉틀 한 대를 월부로 돌여놓을 밑천이다. 어떻게 생각하면 들어주지...  \n",
      "4     그러나 대엿새 하는 동안에 그는 이상한 현상을 하나 발견하였다. 그것은 다른 것이 ...  \n",
      "...                                                 ...  \n",
      "1195   상급학교 입학 준비. 그런 것은 최근의 그에게 있어서는 그다지 문제가 되는 것이 ...  \n",
      "1196   그런데 이번 일 ― 오빠의 외박(外泊)한 날짜와 채옥이의 외박한 날짜가 일치되는 ...  \n",
      "1197     “아 참, 그러니 말이지 참 더워 죽겠수. 발개벗구 다니랬으면 좋겠어! 하하하하.”  \n",
      "1198  팔월도 그믐이 가까워 가을 바람이 불기 시작할 때라 저녁 때면 의례히 말 달리는 놀...  \n",
      "1199   나는 배가 너무 고펐기에 먼저 군떡을 몇개 집어먹고는 마음놓 고 그년 석과 술을 ...  \n",
      "\n",
      "[1200 rows x 3 columns]\n"
     ]
    }
   ],
   "source": [
    "# CSV 파일 경로\n",
    "file_path = './Data/validation_old_new_data.csv'\n",
    "\n",
    "# CSV 파일을 데이터프레임으로 불러오기\n",
    "data = pd.read_csv(file_path)\n",
    "\n",
    "# 데이터프레임 출력\n",
    "print(data)"
   ]
  },
  {
   "cell_type": "code",
   "execution_count": 12,
   "id": "faadc21b-a533-4472-aaff-1a4984c332d1",
   "metadata": {},
   "outputs": [
    {
     "name": "stdout",
     "output_type": "stream",
     "text": [
      "최솟값: 9\n",
      "최댓값: 801\n",
      "평균값: 107.1575\n",
      "중간값: 90.0\n"
     ]
    },
    {
     "data": {
      "image/png": "[encoded data removed]",
      "text/plain": [
       "<Figure size 1000x600 with 1 Axes>"
      ]
     },
     "metadata": {},
     "output_type": "display_data"
    }
   ],
   "source": [
    "#old열 글자 수 시각화\n",
    "import pandas as pd\n",
    "import matplotlib.pyplot as plt\n",
    "\n",
    "# 'old' 열의 각 텍스트의 글자 수를 계산\n",
    "data['length'] = data['old'].apply(len)\n",
    "\n",
    "# 최솟값, 최댓값, 평균, 중간값 출력\n",
    "min_count = data['length'].min()\n",
    "max_count = data['length'].max()\n",
    "mean_count = data['length'].mean()\n",
    "median_count = data['length'].median()\n",
    "\n",
    "print(f\"최솟값: {min_count}\")\n",
    "print(f\"최댓값: {max_count}\")\n",
    "print(f\"평균값: {mean_count}\")\n",
    "print(f\"중간값: {median_count}\")\n",
    "\n",
    "# 글자 수의 분포를 히스토그램으로 시각화\n",
    "plt.figure(figsize=(10, 6))\n",
    "plt.hist(data['length'], bins=30, color='blue', alpha=0.7)\n",
    "plt.title('Distribution of Character Counts in \"old\" Texts')\n",
    "plt.xlabel('Character Count')\n",
    "plt.ylabel('Frequency')\n",
    "plt.grid(True)\n",
    "plt.show()"
   ]
  },
  {
   "cell_type": "code",
   "execution_count": 13,
   "id": "c14c1a00-5020-4500-a8cb-21e22a7c31aa",
   "metadata": {},
   "outputs": [
    {
     "name": "stdout",
     "output_type": "stream",
     "text": [
      "최솟값: 2\n",
      "최댓값: 199\n",
      "평균값: 27.47833333333333\n",
      "중간값: 23.0\n"
     ]
    },
    {
     "data": {
      "image/png": "[encoded data removed]",
      "text/plain": [
       "<Figure size 1000x600 with 1 Axes>"
      ]
     },
     "metadata": {},
     "output_type": "display_data"
    }
   ],
   "source": [
    "#old열 단어 수 시각화\n",
    "\n",
    "# 'old' 열의 각 텍스트의 단어 수를 계산\n",
    "data['word_count'] = data['old'].apply(lambda x: len(str(x).split()))\n",
    "\n",
    "# 최솟값, 최댓값, 평균, 중간값 출력\n",
    "min_count = data['word_count'].min()\n",
    "max_count = data['word_count'].max()\n",
    "mean_count = data['word_count'].mean()\n",
    "median_count = data['word_count'].median()\n",
    "\n",
    "print(f\"최솟값: {min_count}\")\n",
    "print(f\"최댓값: {max_count}\")\n",
    "print(f\"평균값: {mean_count}\")\n",
    "print(f\"중간값: {median_count}\")\n",
    "\n",
    "# 단어 수의 분포를 히스토그램으로 시각화\n",
    "plt.figure(figsize=(10, 6))\n",
    "plt.hist(data['word_count'], bins=30, color='green', alpha=0.7)\n",
    "plt.title('Distribution of Word Counts in \"old\" Texts')\n",
    "plt.xlabel('Word Count')\n",
    "plt.ylabel('Frequency')\n",
    "plt.grid(True)\n",
    "plt.show()"
   ]
  },
  {
   "cell_type": "code",
   "execution_count": 14,
   "id": "a84db6fa-ef2a-4f4f-be16-3b723015d8a7",
   "metadata": {},
   "outputs": [
    {
     "name": "stdout",
     "output_type": "stream",
     "text": [
      "최솟값: 705\n",
      "최댓값: 1492\n",
      "평균값: 832.6975\n",
      "중간값: 793.0\n"
     ]
    },
    {
     "data": {
      "image/png": "[encoded data removed]",
      "text/plain": [
       "<Figure size 1000x600 with 1 Axes>"
      ]
     },
     "metadata": {},
     "output_type": "display_data"
    }
   ],
   "source": [
    "# 'new' 열의 각 텍스트의 글자 수를 계산\n",
    "data['char_count_new'] = data['new'].apply(len)\n",
    "\n",
    "# 최솟값, 최댓값, 평균, 중간값 출력\n",
    "min_count = data['char_count_new'].min()\n",
    "max_count = data['char_count_new'].max()\n",
    "mean_count = data['char_count_new'].mean()\n",
    "median_count = data['char_count_new'].median()\n",
    "\n",
    "print(f\"최솟값: {min_count}\")\n",
    "print(f\"최댓값: {max_count}\")\n",
    "print(f\"평균값: {mean_count}\")\n",
    "print(f\"중간값: {median_count}\")\n",
    "\n",
    "# 글자 수의 분포를 히스토그램으로 시각화\n",
    "plt.figure(figsize=(10, 6))\n",
    "plt.hist(data['char_count_new'], bins=30, color='red', alpha=0.7)\n",
    "plt.title('Distribution of Character Counts in \"new\" Texts')\n",
    "plt.xlabel('Character Count')\n",
    "plt.ylabel('Frequency')\n",
    "plt.grid(True)\n",
    "plt.show()"
   ]
  },
  {
   "cell_type": "code",
   "execution_count": 15,
   "id": "af54b12f-b615-45b2-ba7f-6bded5443194",
   "metadata": {},
   "outputs": [
    {
     "name": "stdout",
     "output_type": "stream",
     "text": [
      "최솟값: 147\n",
      "최댓값: 405\n",
      "평균값: 213.01583333333335\n",
      "중간값: 203.5\n"
     ]
    },
    {
     "data": {
      "image/png": "[encoded data removed]",
      "text/plain": [
       "<Figure size 1000x600 with 1 Axes>"
      ]
     },
     "metadata": {},
     "output_type": "display_data"
    }
   ],
   "source": [
    "# 'new' 열의 각 텍스트의 단어 수를 계산\n",
    "data['word_count_new'] = data['new'].apply(lambda x: len(str(x).split()))\n",
    "\n",
    "# 최솟값, 최댓값, 평균, 중간값 출력\n",
    "min_count = data['word_count_new'].min()\n",
    "max_count = data['word_count_new'].max()\n",
    "mean_count = data['word_count_new'].mean()\n",
    "median_count = data['word_count_new'].median()\n",
    "\n",
    "print(f\"최솟값: {min_count}\")\n",
    "print(f\"최댓값: {max_count}\")\n",
    "print(f\"평균값: {mean_count}\")\n",
    "print(f\"중간값: {median_count}\")\n",
    "\n",
    "# 단어 수의 분포를 히스토그램으로 시각화\n",
    "plt.figure(figsize=(10, 6))\n",
    "plt.hist(data['word_count_new'], bins=30, color='purple', alpha=0.7)\n",
    "plt.title('Distribution of Word Counts in \"new\" Texts')\n",
    "plt.xlabel('Word Count')\n",
    "plt.ylabel('Frequency')\n",
    "plt.grid(True)\n",
    "plt.show()"
   ]
  },
  {
   "cell_type": "code",
   "execution_count": 16,
   "id": "9b2b1dd7-3cdb-4437-a3af-5a964b283aca",
   "metadata": {},
   "outputs": [
    {
     "name": "stdout",
     "output_type": "stream",
     "text": [
      "최솟값: 0\n",
      "최댓값: 1422\n",
      "평균값: 725.54\n",
      "중간값: 703.0\n"
     ]
    },
    {
     "data": {
      "image/png": "[encoded data removed]",
      "text/plain": [
       "<Figure size 1000x600 with 1 Axes>"
      ]
     },
     "metadata": {},
     "output_type": "display_data"
    }
   ],
   "source": [
    "# 글자 수 차이 계산\n",
    "data['char_count_difference'] = data['char_count_new'] - data['length']\n",
    "\n",
    "# 글자 수 차이의 최솟값, 최댓값, 평균값, 중간값 출력\n",
    "min_diff = data['char_count_difference'].min()\n",
    "max_diff = data['char_count_difference'].max()\n",
    "mean_diff = data['char_count_difference'].mean()\n",
    "median_diff = data['char_count_difference'].median()\n",
    "\n",
    "print(f\"최솟값: {min_diff}\")\n",
    "print(f\"최댓값: {max_diff}\")\n",
    "print(f\"평균값: {mean_diff}\")\n",
    "print(f\"중간값: {median_diff}\")\n",
    "\n",
    "# 글자 수 차이의 분포를 히스토그램으로 나타내기\n",
    "plt.figure(figsize=(10, 6))\n",
    "plt.hist(data['char_count_difference'], bins=20, color='green', alpha=0.7)\n",
    "plt.title('Distribution of Length Differences')\n",
    "plt.xlabel('Length Difference')\n",
    "plt.ylabel('Frequency')\n",
    "plt.grid(True)\n",
    "plt.show()"
   ]
  },
  {
   "cell_type": "code",
   "execution_count": 17,
   "id": "90442480-108a-454c-acee-2c5ac6eb4ace",
   "metadata": {},
   "outputs": [
    {
     "name": "stdout",
     "output_type": "stream",
     "text": [
      "Minimum difference: 0\n",
      "Maximum difference: 386\n",
      "Average difference: 185.5375\n",
      "Median difference: 180.0\n"
     ]
    },
    {
     "data": {
      "image/png": "[encoded data removed]",
      "text/plain": [
       "<Figure size 1000x600 with 1 Axes>"
      ]
     },
     "metadata": {},
     "output_type": "display_data"
    }
   ],
   "source": [
    "# 'new'와 'old' 열의 각 행별 단어 수 차이 계산\n",
    "data['word_count_difference'] = data['new'].str.split().apply(len) - data['old'].str.split().apply(len)\n",
    "\n",
    "# 단어 수 차이의 최솟값, 최댓값, 평균값, 중간값 계산\n",
    "min_diff = data['word_count_difference'].min()\n",
    "max_diff = data['word_count_difference'].max()\n",
    "mean_diff = data['word_count_difference'].mean()\n",
    "median_diff = data['word_count_difference'].median()\n",
    "\n",
    "print(f\"Minimum difference: {min_diff}\")\n",
    "print(f\"Maximum difference: {max_diff}\")\n",
    "print(f\"Average difference: {mean_diff}\")\n",
    "print(f\"Median difference: {median_diff}\")\n",
    "\n",
    "# 단어 수 차이의 분포를 히스토그램으로 나타내기\n",
    "plt.figure(figsize=(10, 6))\n",
    "plt.hist(data['word_count_difference'], bins=20, color='green', alpha=0.7)\n",
    "plt.title('Distribution of Word Count Differences')\n",
    "plt.xlabel('Word Count Difference')\n",
    "plt.ylabel('Frequency')\n",
    "plt.grid(True)\n",
    "plt.show()"
   ]
  },
  {
   "cell_type": "code",
   "execution_count": 37,
   "id": "cfff2430-92ea-40c3-a02a-ba8623cdaf9b",
   "metadata": {},
   "outputs": [
    {
     "name": "stdout",
     "output_type": "stream",
     "text": [
      "                                              file_path  \\\n",
      "62    ./data/validation/REPORT-literature-06996-0699...   \n",
      "202   ./data/validation/REPORT-literature-06941-0694...   \n",
      "204   ./data/validation/REPORT-literature-06978-0697...   \n",
      "223   ./data/validation/REPORT-literature-00724-0072...   \n",
      "329   ./data/validation/REPORT-literature-06921-0692...   \n",
      "...                                                 ...   \n",
      "1191  ./data/validation/REPORT-literature-06857-0685...   \n",
      "42    ./data/validation/REPORT-literature-07005-0700...   \n",
      "52    ./data/validation/REPORT-literature-00621-0062...   \n",
      "60    ./data/validation/REPORT-literature-00653-0065...   \n",
      "69    ./data/validation/REPORT-literature-00781-0078...   \n",
      "\n",
      "                                                    new  \\\n",
      "62    온 몸의 근육이 냉기에 죄어들고 이가 쫏기는 것을 억지로 참아 가면서 한 시간 동안...   \n",
      "202   “이것은 꼭 당선될 것입니다. 내가 생각해도 조선에서는 최신식이면서도 견실한 건축물...   \n",
      "204   “용애는 잘 있는지. 우리 학교는 학생이 많은지.” 잠꼬대 비슷이 봉염이는 지껄이다...   \n",
      "223    “장거리 전화를 거실 작정인가요.” “장거리는 왜.” “동경으로 갔어요. 그저께 ...   \n",
      "329    그러나, 지금 옥매로서는 과연 이 지경에까지 이르렀을지. 석구와 옥매 사 이에는 ...   \n",
      "...                                                 ...   \n",
      "1191  그 자리만 모래가 축축이 젖어 있다. 미칠 듯한 심사였다. 학수는 달려들어 그 자리...   \n",
      "42    일본은 인제는 세계에서 도저히 어찌할 수 없는 커다란 존재다. 조선 민족은 일본의 ...   \n",
      "52     이리하여 논개의 마음에는 그들에게 대한 적개심이 맹렬히 불타올랐다. 이튿날 논개의...   \n",
      "60    유무(有無) 나는 그러한 일이 이 현실에 실재해 있는지? 없는지? 그가 묻던 말에 ...   \n",
      "69     “홍 양. 자 많이 잡수세요. 복생선이지만 결코 중독은 안 됩니다.” 농담삼 아 ...   \n",
      "\n",
      "                                                    old  \n",
      "62    온 몸의 근육이 냉기에 죄어들고 이가 쫏기는 것을 억지로 참아 가면서 한 시간 동안...  \n",
      "202   “이것은 꼭 당선될 것입니다. 내가 생각해도 조선에서는 최신식이면서도 견실한 건축물...  \n",
      "204                        “용애는 잘 있는지. 우리 학교는 학생이 많은지.”  \n",
      "223                       “장거리 전화를 거실 작정인가요.” “장거리는 왜.”  \n",
      "329    그러나, 지금 옥매로서는 과연 이 지경에까지 이르렀을지. 석구와 옥매 사 이에는 ...  \n",
      "...                                                 ...  \n",
      "1191                   그 자리만 모래가 축축이 젖어 있다. 미칠 듯한 심사였다.  \n",
      "42    일본은 인제는 세계에서 도저히 어찌할 수 없는 커다란 존재다. 조선 민족은 일본의 ...  \n",
      "52     이리하여 논개의 마음에는 그들에게 대한 적개심이 맹렬히 불타올랐다. 이튿날 논개의...  \n",
      "60                 유무(有無) 나는 그러한 일이 이 현실에 실재해 있는지? 없는지?  \n",
      "69               “홍 양. 자 많이 잡수세요. 복생선이지만 결코 중독은 안 됩니다.”  \n",
      "\n",
      "[100 rows x 3 columns]\n"
     ]
    }
   ],
   "source": [
    "# CSV 파일 경로\n",
    "# file_path = './Data/validation_old_new_data.csv'\n",
    "\n",
    "# CSV 파일을 데이터프레임으로 불러오기\n",
    "# data = pd.read_csv(file_path)\n",
    "\n",
    "# 'new'와 'old' 열의 각 행별 단어 수 차이 계산\n",
    "data['word_count_difference'] = data['new'].str.split().apply(len) - data['old'].str.split().apply(len)\n",
    "\n",
    "# 단어 수 차이의 중간값 계산\n",
    "median_diff = data['word_count_difference'].median()\n",
    "\n",
    "# 중간값과의 절대 차이 계산\n",
    "data['diff_from_median'] = abs(data['word_count_difference'] - median_diff)\n",
    "\n",
    "# 중간값과 가장 가까운 순서대로 정렬하고 상위 100개 행 추출\n",
    "closest_to_median = data.nsmallest(100, 'diff_from_median')\n",
    "\n",
    "# 원본 데이터에 'file_path' 열이 없다면, 이 부분을 생략하세요.\n",
    "if 'file_path' not in data.columns:\n",
    "    data['file_path'] = file_path\n",
    "\n",
    "# 'file_path', 'new', 'old' 열로 구성된 새로운 데이터프레임 생성\n",
    "result_df = closest_to_median[['file_path', 'new', 'old']]\n",
    "\n",
    "# 결과 출력\n",
    "print(result_df)"
   ]
  },
  {
   "cell_type": "code",
   "execution_count": 31,
   "id": "5a863c4d-2b77-4ee5-ae1d-a8580b762de4",
   "metadata": {},
   "outputs": [],
   "source": [
    "#csv파일로 저장\n",
    "# csv_file_path = './Data/validation_data.csv'\n",
    "# validation_df.to_csv(csv_file_path, index=False)"
   ]
  },
  {
   "cell_type": "code",
   "execution_count": 39,
   "id": "396c059d-e755-4a3d-82b7-6414f85f3dcf",
   "metadata": {},
   "outputs": [
    {
     "data": {
      "text/html": [
       "<div>\n",
       "<style scoped>\n",
       "    .dataframe tbody tr th:only-of-type {\n",
       "        vertical-align: middle;\n",
       "    }\n",
       "\n",
       "    .dataframe tbody tr th {\n",
       "        vertical-align: top;\n",
       "    }\n",
       "\n",
       "    .dataframe thead th {\n",
       "        text-align: right;\n",
       "    }\n",
       "</style>\n",
       "<table border=\"1\" class=\"dataframe\">\n",
       "  <thead>\n",
       "    <tr style=\"text-align: right;\">\n",
       "      <th></th>\n",
       "      <th>file_path</th>\n",
       "      <th>new</th>\n",
       "      <th>old</th>\n",
       "      <th>gptinput</th>\n",
       "      <th>gptoutput</th>\n",
       "    </tr>\n",
       "  </thead>\n",
       "  <tbody>\n",
       "    <tr>\n",
       "      <th>62</th>\n",
       "      <td>./data/validation/REPORT-literature-06996-0699...</td>\n",
       "      <td>온 몸의 근육이 냉기에 죄어들고 이가 쫏기는 것을 억지로 참아 가면서 한 시간 동안...</td>\n",
       "      <td>온 몸의 근육이 냉기에 죄어들고 이가 쫏기는 것을 억지로 참아 가면서 한 시간 동안...</td>\n",
       "      <td>문단1. 온 몸의 근육이 냉기에 죄어들고 이가 쫏기는 것을 억지로 참아 가면서 한 ...</td>\n",
       "      <td>None</td>\n",
       "    </tr>\n",
       "    <tr>\n",
       "      <th>202</th>\n",
       "      <td>./data/validation/REPORT-literature-06941-0694...</td>\n",
       "      <td>“이것은 꼭 당선될 것입니다. 내가 생각해도 조선에서는 최신식이면서도 견실한 건축물...</td>\n",
       "      <td>“이것은 꼭 당선될 것입니다. 내가 생각해도 조선에서는 최신식이면서도 견실한 건축물...</td>\n",
       "      <td>문단1. “이것은 꼭 당선될 것입니다. 내가 생각해도 조선에서는 최신식이면서도 견실...</td>\n",
       "      <td>None</td>\n",
       "    </tr>\n",
       "    <tr>\n",
       "      <th>204</th>\n",
       "      <td>./data/validation/REPORT-literature-06978-0697...</td>\n",
       "      <td>“용애는 잘 있는지. 우리 학교는 학생이 많은지.” 잠꼬대 비슷이 봉염이는 지껄이다...</td>\n",
       "      <td>“용애는 잘 있는지. 우리 학교는 학생이 많은지.”</td>\n",
       "      <td>문단1. “용애는 잘 있는지. 우리 학교는 학생이 많은지.”\\n\\n문단2. “용애는...</td>\n",
       "      <td>None</td>\n",
       "    </tr>\n",
       "    <tr>\n",
       "      <th>223</th>\n",
       "      <td>./data/validation/REPORT-literature-00724-0072...</td>\n",
       "      <td>“장거리 전화를 거실 작정인가요.” “장거리는 왜.” “동경으로 갔어요. 그저께 ...</td>\n",
       "      <td>“장거리 전화를 거실 작정인가요.” “장거리는 왜.”</td>\n",
       "      <td>문단1.  “장거리 전화를 거실 작정인가요.” “장거리는 왜.”\\n\\n문단2.  “...</td>\n",
       "      <td>None</td>\n",
       "    </tr>\n",
       "    <tr>\n",
       "      <th>329</th>\n",
       "      <td>./data/validation/REPORT-literature-06921-0692...</td>\n",
       "      <td>그러나, 지금 옥매로서는 과연 이 지경에까지 이르렀을지. 석구와 옥매 사 이에는 ...</td>\n",
       "      <td>그러나, 지금 옥매로서는 과연 이 지경에까지 이르렀을지. 석구와 옥매 사 이에는 ...</td>\n",
       "      <td>문단1.  그러나, 지금 옥매로서는 과연 이 지경에까지 이르렀을지. 석구와 옥매 사...</td>\n",
       "      <td>None</td>\n",
       "    </tr>\n",
       "    <tr>\n",
       "      <th>...</th>\n",
       "      <td>...</td>\n",
       "      <td>...</td>\n",
       "      <td>...</td>\n",
       "      <td>...</td>\n",
       "      <td>...</td>\n",
       "    </tr>\n",
       "    <tr>\n",
       "      <th>1191</th>\n",
       "      <td>./data/validation/REPORT-literature-06857-0685...</td>\n",
       "      <td>그 자리만 모래가 축축이 젖어 있다. 미칠 듯한 심사였다. 학수는 달려들어 그 자리...</td>\n",
       "      <td>그 자리만 모래가 축축이 젖어 있다. 미칠 듯한 심사였다.</td>\n",
       "      <td>문단1. 그 자리만 모래가 축축이 젖어 있다. 미칠 듯한 심사였다.\\n\\n문단2. ...</td>\n",
       "      <td>None</td>\n",
       "    </tr>\n",
       "    <tr>\n",
       "      <th>42</th>\n",
       "      <td>./data/validation/REPORT-literature-07005-0700...</td>\n",
       "      <td>일본은 인제는 세계에서 도저히 어찌할 수 없는 커다란 존재다. 조선 민족은 일본의 ...</td>\n",
       "      <td>일본은 인제는 세계에서 도저히 어찌할 수 없는 커다란 존재다. 조선 민족은 일본의 ...</td>\n",
       "      <td>문단1. 일본은 인제는 세계에서 도저히 어찌할 수 없는 커다란 존재다. 조선 민족은...</td>\n",
       "      <td>None</td>\n",
       "    </tr>\n",
       "    <tr>\n",
       "      <th>52</th>\n",
       "      <td>./data/validation/REPORT-literature-00621-0062...</td>\n",
       "      <td>이리하여 논개의 마음에는 그들에게 대한 적개심이 맹렬히 불타올랐다. 이튿날 논개의...</td>\n",
       "      <td>이리하여 논개의 마음에는 그들에게 대한 적개심이 맹렬히 불타올랐다. 이튿날 논개의...</td>\n",
       "      <td>문단1.  이리하여 논개의 마음에는 그들에게 대한 적개심이 맹렬히 불타올랐다. 이튿...</td>\n",
       "      <td>None</td>\n",
       "    </tr>\n",
       "    <tr>\n",
       "      <th>60</th>\n",
       "      <td>./data/validation/REPORT-literature-00653-0065...</td>\n",
       "      <td>유무(有無) 나는 그러한 일이 이 현실에 실재해 있는지? 없는지? 그가 묻던 말에 ...</td>\n",
       "      <td>유무(有無) 나는 그러한 일이 이 현실에 실재해 있는지? 없는지?</td>\n",
       "      <td>문단1. 유무(有無) 나는 그러한 일이 이 현실에 실재해 있는지? 없는지?\\n\\n문...</td>\n",
       "      <td>None</td>\n",
       "    </tr>\n",
       "    <tr>\n",
       "      <th>69</th>\n",
       "      <td>./data/validation/REPORT-literature-00781-0078...</td>\n",
       "      <td>“홍 양. 자 많이 잡수세요. 복생선이지만 결코 중독은 안 됩니다.” 농담삼 아 ...</td>\n",
       "      <td>“홍 양. 자 많이 잡수세요. 복생선이지만 결코 중독은 안 됩니다.”</td>\n",
       "      <td>문단1.  “홍 양. 자 많이 잡수세요. 복생선이지만 결코 중독은 안 됩니다.”\\n...</td>\n",
       "      <td>None</td>\n",
       "    </tr>\n",
       "  </tbody>\n",
       "</table>\n",
       "<p>100 rows × 5 columns</p>\n",
       "</div>"
      ],
      "text/plain": [
       "                                              file_path  \\\n",
       "62    ./data/validation/REPORT-literature-06996-0699...   \n",
       "202   ./data/validation/REPORT-literature-06941-0694...   \n",
       "204   ./data/validation/REPORT-literature-06978-0697...   \n",
       "223   ./data/validation/REPORT-literature-00724-0072...   \n",
       "329   ./data/validation/REPORT-literature-06921-0692...   \n",
       "...                                                 ...   \n",
       "1191  ./data/validation/REPORT-literature-06857-0685...   \n",
       "42    ./data/validation/REPORT-literature-07005-0700...   \n",
       "52    ./data/validation/REPORT-literature-00621-0062...   \n",
       "60    ./data/validation/REPORT-literature-00653-0065...   \n",
       "69    ./data/validation/REPORT-literature-00781-0078...   \n",
       "\n",
       "                                                    new  \\\n",
       "62    온 몸의 근육이 냉기에 죄어들고 이가 쫏기는 것을 억지로 참아 가면서 한 시간 동안...   \n",
       "202   “이것은 꼭 당선될 것입니다. 내가 생각해도 조선에서는 최신식이면서도 견실한 건축물...   \n",
       "204   “용애는 잘 있는지. 우리 학교는 학생이 많은지.” 잠꼬대 비슷이 봉염이는 지껄이다...   \n",
       "223    “장거리 전화를 거실 작정인가요.” “장거리는 왜.” “동경으로 갔어요. 그저께 ...   \n",
       "329    그러나, 지금 옥매로서는 과연 이 지경에까지 이르렀을지. 석구와 옥매 사 이에는 ...   \n",
       "...                                                 ...   \n",
       "1191  그 자리만 모래가 축축이 젖어 있다. 미칠 듯한 심사였다. 학수는 달려들어 그 자리...   \n",
       "42    일본은 인제는 세계에서 도저히 어찌할 수 없는 커다란 존재다. 조선 민족은 일본의 ...   \n",
       "52     이리하여 논개의 마음에는 그들에게 대한 적개심이 맹렬히 불타올랐다. 이튿날 논개의...   \n",
       "60    유무(有無) 나는 그러한 일이 이 현실에 실재해 있는지? 없는지? 그가 묻던 말에 ...   \n",
       "69     “홍 양. 자 많이 잡수세요. 복생선이지만 결코 중독은 안 됩니다.” 농담삼 아 ...   \n",
       "\n",
       "                                                    old  \\\n",
       "62    온 몸의 근육이 냉기에 죄어들고 이가 쫏기는 것을 억지로 참아 가면서 한 시간 동안...   \n",
       "202   “이것은 꼭 당선될 것입니다. 내가 생각해도 조선에서는 최신식이면서도 견실한 건축물...   \n",
       "204                        “용애는 잘 있는지. 우리 학교는 학생이 많은지.”   \n",
       "223                       “장거리 전화를 거실 작정인가요.” “장거리는 왜.”   \n",
       "329    그러나, 지금 옥매로서는 과연 이 지경에까지 이르렀을지. 석구와 옥매 사 이에는 ...   \n",
       "...                                                 ...   \n",
       "1191                   그 자리만 모래가 축축이 젖어 있다. 미칠 듯한 심사였다.   \n",
       "42    일본은 인제는 세계에서 도저히 어찌할 수 없는 커다란 존재다. 조선 민족은 일본의 ...   \n",
       "52     이리하여 논개의 마음에는 그들에게 대한 적개심이 맹렬히 불타올랐다. 이튿날 논개의...   \n",
       "60                 유무(有無) 나는 그러한 일이 이 현실에 실재해 있는지? 없는지?   \n",
       "69               “홍 양. 자 많이 잡수세요. 복생선이지만 결코 중독은 안 됩니다.”   \n",
       "\n",
       "                                               gptinput gptoutput  \n",
       "62    문단1. 온 몸의 근육이 냉기에 죄어들고 이가 쫏기는 것을 억지로 참아 가면서 한 ...      None  \n",
       "202   문단1. “이것은 꼭 당선될 것입니다. 내가 생각해도 조선에서는 최신식이면서도 견실...      None  \n",
       "204   문단1. “용애는 잘 있는지. 우리 학교는 학생이 많은지.”\\n\\n문단2. “용애는...      None  \n",
       "223   문단1.  “장거리 전화를 거실 작정인가요.” “장거리는 왜.”\\n\\n문단2.  “...      None  \n",
       "329   문단1.  그러나, 지금 옥매로서는 과연 이 지경에까지 이르렀을지. 석구와 옥매 사...      None  \n",
       "...                                                 ...       ...  \n",
       "1191  문단1. 그 자리만 모래가 축축이 젖어 있다. 미칠 듯한 심사였다.\\n\\n문단2. ...      None  \n",
       "42    문단1. 일본은 인제는 세계에서 도저히 어찌할 수 없는 커다란 존재다. 조선 민족은...      None  \n",
       "52    문단1.  이리하여 논개의 마음에는 그들에게 대한 적개심이 맹렬히 불타올랐다. 이튿...      None  \n",
       "60    문단1. 유무(有無) 나는 그러한 일이 이 현실에 실재해 있는지? 없는지?\\n\\n문...      None  \n",
       "69    문단1.  “홍 양. 자 많이 잡수세요. 복생선이지만 결코 중독은 안 됩니다.”\\n...      None  \n",
       "\n",
       "[100 rows x 5 columns]"
      ]
     },
     "execution_count": 39,
     "metadata": {},
     "output_type": "execute_result"
    }
   ],
   "source": [
    "# 먼저 result_df의 명시적인 복사본을 생성\n",
    "result_df = result_df.copy()\n",
    "\n",
    "# 'gptinput' 열 생성\n",
    "result_df['gptinput'] = '문단1. ' + result_df['old'] + '\\n\\n문단2. ' + result_df['new'] + \\\n",
    "                        '\\n\\n문단1에서 문단2로 변경되었을 때, 추가된 내용을 50자 이내의 한 문장으로 요약해 줘.'\n",
    "\n",
    "# 'gptoutput' 빈 열 생성\n",
    "result_df['gptoutput'] = None\n",
    "\n",
    "result_df\n"
   ]
  },
  {
   "cell_type": "code",
   "execution_count": 40,
   "id": "10c085ac-3e8c-44df-8515-8fb5e7b2ccd4",
   "metadata": {},
   "outputs": [
    {
     "data": {
      "text/plain": [
       "(100, 5)"
      ]
     },
     "execution_count": 40,
     "metadata": {},
     "output_type": "execute_result"
    }
   ],
   "source": [
    "result_df.shape"
   ]
  },
  {
   "cell_type": "code",
   "execution_count": 44,
   "id": "3dbf1fe1-1652-49a9-8ef6-6cf32c8fcba0",
   "metadata": {},
   "outputs": [],
   "source": [
    "#csv파일로 저장\n",
    "csv_file_path = './Data/validation_data_chatgptin.csv'\n",
    "result_df.to_csv(csv_file_path, index=False)"
   ]
  },
  {
   "cell_type": "markdown",
   "id": "0ca374e8-cc8a-4092-9a97-840bf5bbf99a",
   "metadata": {},
   "source": [
    "## data preprocessing\n",
    "gptoutput이 입력되어 있는 상태에서 수행"
   ]
  },
  {
   "cell_type": "code",
   "execution_count": null,
   "id": "52136fe3-268c-4bb6-94e2-1de7e64b7b0f",
   "metadata": {},
   "outputs": [],
   "source": [
    "import pandas as pd\n",
    "import difflib"
   ]
  },
  {
   "cell_type": "code",
   "execution_count": null,
   "id": "faf9396a-f845-4cb9-b05d-e74f986a2fa8",
   "metadata": {},
   "outputs": [],
   "source": [
    "# CSV 파일 경로\n",
    "file_path = \"./data/validaiton_data_chatgptin.csv\"\n",
    "\n",
    "# CSV 파일을 데이터프레임으로 불러오기\n",
    "df = pd.read_csv(file_path)\n",
    "\n",
    "# 데이터프레임 확인\n",
    "df.head()\n"
   ]
  },
  {
   "cell_type": "code",
   "execution_count": null,
   "id": "c2f2350e-db93-4e29-8038-ee9bb2f8f25d",
   "metadata": {},
   "outputs": [],
   "source": [
    "# 변화를 감지하여 토큰화된 텍스트 생성하는 함수\n",
    "def detect_changes(old_text, new_text):\n",
    "    added_parts = []\n",
    "    for diff in difflib.ndiff(old_text, new_text):\n",
    "        if diff[0] == '+':\n",
    "            added_parts.append(diff[2:])\n",
    "    return old_text + \"[ADDED]\" + \"\".join(added_parts) + \"[/ADDED]\"\n",
    "\n",
    "# 'text' 열에 변화를 감지한 텍스트 추가\n",
    "df['text'] = df.apply(lambda row: detect_changes(row['old'], row['new']), axis=1)\n",
    "\n",
    "# 결과 확인\n",
    "df"
   ]
  },
  {
   "cell_type": "code",
   "execution_count": null,
   "id": "3ce75d6d-8f36-481b-bbe7-0dd236446103",
   "metadata": {},
   "outputs": [],
   "source": [
    "# 'file_path', 'new', 'old', 'gptinput' 열 삭제\n",
    "df.drop(columns=['file_path', 'new', 'old', 'gptinput'], inplace=True)\n",
    "\n",
    "# 'gptoutput' 열 이름을 'summary'로 변경\n",
    "df.rename(columns={'gptoutput': 'summary'}, inplace=True)\n",
    "\n",
    "df"
   ]
  },
  {
   "cell_type": "code",
   "execution_count": null,
   "id": "a8286316-0a53-47c4-8e0c-c308c16fa0ad",
   "metadata": {},
   "outputs": [],
   "source": [
    "#csv파일로 저장\n",
    "csv_file_path = './data/validation_data.csv'\n",
    "df.to_csv(csv_file_path, index=False)"
   ]
  }
 ],
 "metadata": {
  "kernelspec": {
   "display_name": "Python 3 (ipykernel)",
   "language": "python",
   "name": "python3"
  },
  "language_info": {
   "codemirror_mode": {
    "name": "ipython",
    "version": 3
   },
   "file_extension": ".py",
   "mimetype": "text/x-python",
   "name": "python",
   "nbconvert_exporter": "python",
   "pygments_lexer": "ipython3",
   "version": "3.11.8"
  }
 },
 "nbformat": 4,
 "nbformat_minor": 5
}
